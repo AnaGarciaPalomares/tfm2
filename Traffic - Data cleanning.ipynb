{
 "cells": [
  {
   "cell_type": "markdown",
   "id": "7ca066f1",
   "metadata": {},
   "source": [
    "# DATA CLEANNING"
   ]
  },
  {
   "cell_type": "code",
   "execution_count": 1,
   "id": "79ff8a73",
   "metadata": {},
   "outputs": [],
   "source": [
    "import pandas as pd\n",
    "import numpy as np"
   ]
  },
  {
   "cell_type": "markdown",
   "id": "6e1a2fd7",
   "metadata": {},
   "source": [
    "### Analizamos los datos de accidentes"
   ]
  },
  {
   "cell_type": "raw",
   "id": "fd5e9740",
   "metadata": {},
   "source": [
    "Relativo a la información sobre accidentes la fuente nos ofrece un dataset por año de ocurrencia del siniestro."
   ]
  },
  {
   "cell_type": "code",
   "execution_count": 2,
   "id": "2e18d715",
   "metadata": {},
   "outputs": [],
   "source": [
    "path_acc_2019 = '/home/dsc/Master DS/TFM/TFM INFO/accidents/2019_Accidentalidad.csv'\n",
    "path_acc_2020 = '/home/dsc/Master DS/TFM/TFM INFO/accidents/2020_Accidentalidad.csv'\n",
    "path_acc_2021 = '/home/dsc/Master DS/TFM/TFM INFO/accidents/2021_Accidentalidad.csv'"
   ]
  },
  {
   "cell_type": "code",
   "execution_count": 3,
   "id": "02d33b1f",
   "metadata": {},
   "outputs": [],
   "source": [
    "accidents_2019 = pd.read_csv(path_acc_2019, sep = ';' )\n",
    "accidents_2020 = pd.read_csv(path_acc_2020, sep = ';' )\n",
    "accidents_2021 = pd.read_csv(path_acc_2021, sep = ';' )"
   ]
  },
  {
   "cell_type": "raw",
   "id": "229c78b8",
   "metadata": {},
   "source": [
    "Comprobamos si los 3 archivos tienen las columnas mismas columnas:"
   ]
  },
  {
   "cell_type": "code",
   "execution_count": 4,
   "id": "4584be45",
   "metadata": {},
   "outputs": [],
   "source": [
    "columns_acc_2019 = accidents_2019.columns.tolist()\n",
    "columns_acc_2020 = accidents_2020.columns.tolist()\n",
    "columns_acc_2021 = accidents_2021.columns.tolist()"
   ]
  },
  {
   "cell_type": "code",
   "execution_count": 5,
   "id": "98129522",
   "metadata": {},
   "outputs": [],
   "source": [
    "columns_acc = columns_acc_2019 + columns_acc_2020 + columns_acc_2021"
   ]
  },
  {
   "cell_type": "code",
   "execution_count": 6,
   "id": "8d61f50f",
   "metadata": {},
   "outputs": [],
   "source": [
    "from collections import Counter"
   ]
  },
  {
   "cell_type": "code",
   "execution_count": 7,
   "id": "b74fa380",
   "metadata": {},
   "outputs": [],
   "source": [
    "def mycounter(series):\n",
    "    return Counter(list(series))"
   ]
  },
  {
   "cell_type": "code",
   "execution_count": 8,
   "id": "41065d3a",
   "metadata": {},
   "outputs": [
    {
     "data": {
      "text/plain": [
       "Counter({'num_expediente': 3,\n",
       "         'fecha': 3,\n",
       "         'hora': 3,\n",
       "         'localizacion': 3,\n",
       "         'numero': 3,\n",
       "         'cod_distrito': 3,\n",
       "         'distrito': 3,\n",
       "         'tipo_accidente': 3,\n",
       "         'estado_meteorológico': 3,\n",
       "         'tipo_vehículo': 2,\n",
       "         'tipo_persona': 3,\n",
       "         'rango_edad': 3,\n",
       "         'sexo': 3,\n",
       "         'cod_lesividad': 3,\n",
       "         'tipo_lesividad': 2,\n",
       "         'coordenada_x_utm': 3,\n",
       "         'coordenada_y_utm': 3,\n",
       "         'positiva_alcohol': 3,\n",
       "         'positiva_droga': 3,\n",
       "         'tipo_vehiculo': 1,\n",
       "         'lesividad': 1})"
      ]
     },
     "execution_count": 8,
     "metadata": {},
     "output_type": "execute_result"
    }
   ],
   "source": [
    "columns_freq = mycounter(columns_acc)\n",
    "columns_freq"
   ]
  },
  {
   "cell_type": "code",
   "execution_count": 9,
   "id": "93dc16e0",
   "metadata": {},
   "outputs": [
    {
     "data": {
      "text/plain": [
       "['tipo_vehículo', 'tipo_lesividad', 'tipo_vehiculo', 'lesividad']"
      ]
     },
     "execution_count": 9,
     "metadata": {},
     "output_type": "execute_result"
    }
   ],
   "source": [
    "columns_not_equal = list({x: count for x, count in columns_freq.items() if count < 3})\n",
    "columns_not_equal"
   ]
  },
  {
   "cell_type": "code",
   "execution_count": 10,
   "id": "f10caa49",
   "metadata": {},
   "outputs": [
    {
     "data": {
      "text/plain": [
       "['num_expediente',\n",
       " 'fecha',\n",
       " 'hora',\n",
       " 'localizacion',\n",
       " 'numero',\n",
       " 'cod_distrito',\n",
       " 'distrito',\n",
       " 'tipo_accidente',\n",
       " 'estado_meteorológico',\n",
       " 'tipo_persona',\n",
       " 'rango_edad',\n",
       " 'sexo',\n",
       " 'cod_lesividad',\n",
       " 'coordenada_x_utm',\n",
       " 'coordenada_y_utm',\n",
       " 'positiva_alcohol',\n",
       " 'positiva_droga']"
      ]
     },
     "execution_count": 10,
     "metadata": {},
     "output_type": "execute_result"
    }
   ],
   "source": [
    "columns_equal = list({x: count for x, count in columns_freq.items() if count == 3})\n",
    "columns_equal"
   ]
  },
  {
   "cell_type": "raw",
   "id": "fb1ea370",
   "metadata": {},
   "source": [
    "Cambiamos las siguientes columnas:\n",
    "- las no coincidentes:'tipo_lesividad' y 'tipo_vehiculo'.  "
   ]
  },
  {
   "cell_type": "code",
   "execution_count": 11,
   "id": "e2a4fb42",
   "metadata": {},
   "outputs": [],
   "source": [
    "accidents_2019 = accidents_2019.rename(columns={'tipo_vehículo':'tipo_vehiculo',\n",
    "                                               'estado_meteorológico':'estado_meteorologico'})\n",
    "\n",
    "accidents_2020 = accidents_2020.rename(columns={'tipo_vehículo':'tipo_vehiculo',\n",
    "                                               'estado_meteorológico':'estado_meteorologico'})\n",
    "\n",
    "accidents_2021 = accidents_2021.rename(columns={'lesividad':'tipo_lesividad','tipo_vehículo':'tipo_vehiculo',\n",
    "                                               'estado_meteorológico':'estado_meteorologico'})\n"
   ]
  },
  {
   "cell_type": "raw",
   "id": "ecadadd2",
   "metadata": {},
   "source": [
    "Vamos a comprobar la existencia de Nans en nuestros datasets y en función del resultado nos plantearemos descartar alguna de las variables."
   ]
  },
  {
   "cell_type": "code",
   "execution_count": 12,
   "id": "b04ec49b",
   "metadata": {},
   "outputs": [],
   "source": [
    "columns_acc_2019 = accidents_2019.columns.str.strip()\n",
    "columns_acc_2020 = accidents_2020.columns.str.strip()\n",
    "columns_acc_2021 = accidents_2021.columns.str.strip()"
   ]
  },
  {
   "cell_type": "code",
   "execution_count": 13,
   "id": "80c76998",
   "metadata": {},
   "outputs": [],
   "source": [
    "accidents_2019_df = pd . DataFrame (accidents_2019 , columns = columns_acc_2019 )\n",
    "accidents_2020_df = pd . DataFrame (accidents_2020 , columns = columns_acc_2020 )\n",
    "accidents_2021_df = pd . DataFrame (accidents_2021 , columns = columns_acc_2021 )"
   ]
  },
  {
   "cell_type": "code",
   "execution_count": 14,
   "id": "d86392e6",
   "metadata": {},
   "outputs": [],
   "source": [
    "count_nan_2019_acc_df = accidents_2019_df[columns_acc_2019].isna().sum().reset_index()\n",
    "count_nan_2020_acc_df = accidents_2020_df[columns_acc_2020].isna().sum().reset_index()\n",
    "count_nan_2021_acc_df = accidents_2021_df[columns_acc_2021].isna().sum().reset_index()"
   ]
  },
  {
   "cell_type": "code",
   "execution_count": 15,
   "id": "18fcca60",
   "metadata": {},
   "outputs": [
    {
     "data": {
      "text/html": [
       "<div>\n",
       "<style scoped>\n",
       "    .dataframe tbody tr th:only-of-type {\n",
       "        vertical-align: middle;\n",
       "    }\n",
       "\n",
       "    .dataframe tbody tr th {\n",
       "        vertical-align: top;\n",
       "    }\n",
       "\n",
       "    .dataframe thead tr th {\n",
       "        text-align: left;\n",
       "    }\n",
       "</style>\n",
       "<table border=\"1\" class=\"dataframe\">\n",
       "  <thead>\n",
       "    <tr>\n",
       "      <th></th>\n",
       "      <th colspan=\"2\" halign=\"left\">Nan_2019</th>\n",
       "      <th colspan=\"2\" halign=\"left\">Nan_2020</th>\n",
       "      <th colspan=\"2\" halign=\"left\">Nan_2021</th>\n",
       "    </tr>\n",
       "    <tr>\n",
       "      <th></th>\n",
       "      <th>index</th>\n",
       "      <th>0</th>\n",
       "      <th>index</th>\n",
       "      <th>0</th>\n",
       "      <th>index</th>\n",
       "      <th>0</th>\n",
       "    </tr>\n",
       "  </thead>\n",
       "  <tbody>\n",
       "    <tr>\n",
       "      <th>0</th>\n",
       "      <td>num_expediente</td>\n",
       "      <td>0</td>\n",
       "      <td>num_expediente</td>\n",
       "      <td>0</td>\n",
       "      <td>num_expediente</td>\n",
       "      <td>0</td>\n",
       "    </tr>\n",
       "    <tr>\n",
       "      <th>1</th>\n",
       "      <td>fecha</td>\n",
       "      <td>0</td>\n",
       "      <td>fecha</td>\n",
       "      <td>0</td>\n",
       "      <td>fecha</td>\n",
       "      <td>0</td>\n",
       "    </tr>\n",
       "    <tr>\n",
       "      <th>2</th>\n",
       "      <td>hora</td>\n",
       "      <td>0</td>\n",
       "      <td>hora</td>\n",
       "      <td>0</td>\n",
       "      <td>hora</td>\n",
       "      <td>0</td>\n",
       "    </tr>\n",
       "    <tr>\n",
       "      <th>3</th>\n",
       "      <td>localizacion</td>\n",
       "      <td>0</td>\n",
       "      <td>localizacion</td>\n",
       "      <td>0</td>\n",
       "      <td>localizacion</td>\n",
       "      <td>0</td>\n",
       "    </tr>\n",
       "    <tr>\n",
       "      <th>4</th>\n",
       "      <td>numero</td>\n",
       "      <td>0</td>\n",
       "      <td>numero</td>\n",
       "      <td>2</td>\n",
       "      <td>numero</td>\n",
       "      <td>3</td>\n",
       "    </tr>\n",
       "    <tr>\n",
       "      <th>5</th>\n",
       "      <td>cod_distrito</td>\n",
       "      <td>0</td>\n",
       "      <td>cod_distrito</td>\n",
       "      <td>2</td>\n",
       "      <td>cod_distrito</td>\n",
       "      <td>3</td>\n",
       "    </tr>\n",
       "    <tr>\n",
       "      <th>6</th>\n",
       "      <td>distrito</td>\n",
       "      <td>0</td>\n",
       "      <td>distrito</td>\n",
       "      <td>2</td>\n",
       "      <td>distrito</td>\n",
       "      <td>3</td>\n",
       "    </tr>\n",
       "    <tr>\n",
       "      <th>7</th>\n",
       "      <td>tipo_accidente</td>\n",
       "      <td>0</td>\n",
       "      <td>tipo_accidente</td>\n",
       "      <td>0</td>\n",
       "      <td>tipo_accidente</td>\n",
       "      <td>4</td>\n",
       "    </tr>\n",
       "    <tr>\n",
       "      <th>8</th>\n",
       "      <td>estado_meteorologico</td>\n",
       "      <td>5130</td>\n",
       "      <td>estado_meteorologico</td>\n",
       "      <td>3196</td>\n",
       "      <td>estado_meteorologico</td>\n",
       "      <td>4428</td>\n",
       "    </tr>\n",
       "    <tr>\n",
       "      <th>9</th>\n",
       "      <td>tipo_vehiculo</td>\n",
       "      <td>176</td>\n",
       "      <td>tipo_vehiculo</td>\n",
       "      <td>137</td>\n",
       "      <td>tipo_vehiculo</td>\n",
       "      <td>54</td>\n",
       "    </tr>\n",
       "    <tr>\n",
       "      <th>10</th>\n",
       "      <td>tipo_persona</td>\n",
       "      <td>0</td>\n",
       "      <td>tipo_persona</td>\n",
       "      <td>0</td>\n",
       "      <td>tipo_persona</td>\n",
       "      <td>3</td>\n",
       "    </tr>\n",
       "    <tr>\n",
       "      <th>11</th>\n",
       "      <td>rango_edad</td>\n",
       "      <td>0</td>\n",
       "      <td>rango_edad</td>\n",
       "      <td>0</td>\n",
       "      <td>rango_edad</td>\n",
       "      <td>0</td>\n",
       "    </tr>\n",
       "    <tr>\n",
       "      <th>12</th>\n",
       "      <td>sexo</td>\n",
       "      <td>0</td>\n",
       "      <td>sexo</td>\n",
       "      <td>0</td>\n",
       "      <td>sexo</td>\n",
       "      <td>0</td>\n",
       "    </tr>\n",
       "    <tr>\n",
       "      <th>13</th>\n",
       "      <td>cod_lesividad</td>\n",
       "      <td>21769</td>\n",
       "      <td>cod_lesividad</td>\n",
       "      <td>14802</td>\n",
       "      <td>cod_lesividad</td>\n",
       "      <td>18964</td>\n",
       "    </tr>\n",
       "    <tr>\n",
       "      <th>14</th>\n",
       "      <td>tipo_lesividad</td>\n",
       "      <td>21769</td>\n",
       "      <td>tipo_lesividad</td>\n",
       "      <td>14802</td>\n",
       "      <td>tipo_lesividad</td>\n",
       "      <td>18964</td>\n",
       "    </tr>\n",
       "    <tr>\n",
       "      <th>15</th>\n",
       "      <td>coordenada_x_utm</td>\n",
       "      <td>0</td>\n",
       "      <td>coordenada_x_utm</td>\n",
       "      <td>2</td>\n",
       "      <td>coordenada_x_utm</td>\n",
       "      <td>9</td>\n",
       "    </tr>\n",
       "    <tr>\n",
       "      <th>16</th>\n",
       "      <td>coordenada_y_utm</td>\n",
       "      <td>0</td>\n",
       "      <td>coordenada_y_utm</td>\n",
       "      <td>2</td>\n",
       "      <td>coordenada_y_utm</td>\n",
       "      <td>9</td>\n",
       "    </tr>\n",
       "    <tr>\n",
       "      <th>17</th>\n",
       "      <td>positiva_alcohol</td>\n",
       "      <td>109</td>\n",
       "      <td>positiva_alcohol</td>\n",
       "      <td>102</td>\n",
       "      <td>positiva_alcohol</td>\n",
       "      <td>167</td>\n",
       "    </tr>\n",
       "    <tr>\n",
       "      <th>18</th>\n",
       "      <td>positiva_droga</td>\n",
       "      <td>51649</td>\n",
       "      <td>positiva_droga</td>\n",
       "      <td>32351</td>\n",
       "      <td>positiva_droga</td>\n",
       "      <td>41694</td>\n",
       "    </tr>\n",
       "  </tbody>\n",
       "</table>\n",
       "</div>"
      ],
      "text/plain": [
       "                Nan_2019                     Nan_2020         \\\n",
       "                   index      0                 index      0   \n",
       "0         num_expediente      0        num_expediente      0   \n",
       "1                  fecha      0                 fecha      0   \n",
       "2                   hora      0                  hora      0   \n",
       "3           localizacion      0          localizacion      0   \n",
       "4                 numero      0                numero      2   \n",
       "5           cod_distrito      0          cod_distrito      2   \n",
       "6               distrito      0              distrito      2   \n",
       "7         tipo_accidente      0        tipo_accidente      0   \n",
       "8   estado_meteorologico   5130  estado_meteorologico   3196   \n",
       "9          tipo_vehiculo    176         tipo_vehiculo    137   \n",
       "10          tipo_persona      0          tipo_persona      0   \n",
       "11            rango_edad      0            rango_edad      0   \n",
       "12                  sexo      0                  sexo      0   \n",
       "13         cod_lesividad  21769         cod_lesividad  14802   \n",
       "14        tipo_lesividad  21769        tipo_lesividad  14802   \n",
       "15      coordenada_x_utm      0      coordenada_x_utm      2   \n",
       "16      coordenada_y_utm      0      coordenada_y_utm      2   \n",
       "17      positiva_alcohol    109      positiva_alcohol    102   \n",
       "18        positiva_droga  51649        positiva_droga  32351   \n",
       "\n",
       "                Nan_2021         \n",
       "                   index      0  \n",
       "0         num_expediente      0  \n",
       "1                  fecha      0  \n",
       "2                   hora      0  \n",
       "3           localizacion      0  \n",
       "4                 numero      3  \n",
       "5           cod_distrito      3  \n",
       "6               distrito      3  \n",
       "7         tipo_accidente      4  \n",
       "8   estado_meteorologico   4428  \n",
       "9          tipo_vehiculo     54  \n",
       "10          tipo_persona      3  \n",
       "11            rango_edad      0  \n",
       "12                  sexo      0  \n",
       "13         cod_lesividad  18964  \n",
       "14        tipo_lesividad  18964  \n",
       "15      coordenada_x_utm      9  \n",
       "16      coordenada_y_utm      9  \n",
       "17      positiva_alcohol    167  \n",
       "18        positiva_droga  41694  "
      ]
     },
     "execution_count": 15,
     "metadata": {},
     "output_type": "execute_result"
    }
   ],
   "source": [
    "count_nan_acc_df = pd.concat([count_nan_2019_acc_df,count_nan_2020_acc_df,count_nan_2021_acc_df],axis=1,\n",
    "                             keys=['Nan_2019','Nan_2020','Nan_2021']) \n",
    "count_nan_acc_df"
   ]
  },
  {
   "cell_type": "raw",
   "id": "90fa43f0",
   "metadata": {},
   "source": [
    "Por los resultados obtenidos en la ocurrencia de Nans procedemos a descartar las siguientes variables:\n",
    "    - 'estado_meteorologico'\n",
    "    - 'cod_lesividad'\n",
    "    - 'tipo_lesividad'\n",
    "    - 'positiva_droga'\n",
    "\n",
    "Adicionalmente vamos a eliminar tambien las siguientes variables, ya que no aportan información extrapolable:\n",
    "    - 'localizacion'\n",
    "    - 'numero'"
   ]
  },
  {
   "cell_type": "code",
   "execution_count": 16,
   "id": "05353d62",
   "metadata": {},
   "outputs": [],
   "source": [
    "variables_to_drop = ['estado_meteorologico','cod_lesividad','tipo_lesividad','positiva_droga','localizacion',\n",
    "                     'numero']"
   ]
  },
  {
   "cell_type": "code",
   "execution_count": 17,
   "id": "a76b2300",
   "metadata": {},
   "outputs": [],
   "source": [
    "accidents_2019_df_clean = accidents_2019_df.drop(variables_to_drop, axis=1)\n",
    "accidents_2020_df_clean = accidents_2020_df.drop(variables_to_drop, axis=1)\n",
    "accidents_2021_df_clean = accidents_2021_df.drop(variables_to_drop, axis=1)"
   ]
  },
  {
   "cell_type": "code",
   "execution_count": 18,
   "id": "8f8780dc",
   "metadata": {},
   "outputs": [],
   "source": [
    "acc_2019 = accidents_2019_df_clean.dropna()\n",
    "acc_2020 = accidents_2020_df_clean.dropna()\n",
    "acc_2021 = accidents_2021_df_clean.dropna()"
   ]
  },
  {
   "cell_type": "raw",
   "id": "9f8a54b4",
   "metadata": {},
   "source": [
    "Comprobamos la reducción que ha sufrido el dataset original:"
   ]
  },
  {
   "cell_type": "code",
   "execution_count": 19,
   "id": "dd6869ee",
   "metadata": {},
   "outputs": [
    {
     "name": "stdout",
     "output_type": "stream",
     "text": [
      "(51811, 19)\n",
      "(51811, 19)\n",
      "(51811, 13)\n",
      "(51547, 13)\n"
     ]
    }
   ],
   "source": [
    "print(accidents_2019.shape)\n",
    "print(accidents_2019_df.shape)\n",
    "print(accidents_2019_df_clean.shape)\n",
    "print(acc_2019.shape)"
   ]
  },
  {
   "cell_type": "code",
   "execution_count": 20,
   "id": "9229bb8e",
   "metadata": {},
   "outputs": [
    {
     "name": "stdout",
     "output_type": "stream",
     "text": [
      "(32433, 19)\n",
      "(32433, 19)\n",
      "(32433, 13)\n",
      "(32207, 13)\n"
     ]
    }
   ],
   "source": [
    "print(accidents_2020.shape)\n",
    "print(accidents_2020_df.shape)\n",
    "print(accidents_2020_df_clean.shape)\n",
    "print(acc_2020.shape)"
   ]
  },
  {
   "cell_type": "code",
   "execution_count": 21,
   "id": "8bf6ce40",
   "metadata": {},
   "outputs": [
    {
     "name": "stdout",
     "output_type": "stream",
     "text": [
      "(41783, 19)\n",
      "(41783, 19)\n",
      "(41783, 13)\n",
      "(41552, 13)\n"
     ]
    }
   ],
   "source": [
    "print(accidents_2021.shape)\n",
    "print(accidents_2021_df.shape)\n",
    "print(accidents_2021_df_clean.shape)\n",
    "print(acc_2021.shape)"
   ]
  },
  {
   "cell_type": "raw",
   "id": "8af657d8",
   "metadata": {},
   "source": [
    "Comprobamos que ya no haya ningun Nan:"
   ]
  },
  {
   "cell_type": "code",
   "execution_count": 22,
   "id": "bcabbc8f",
   "metadata": {},
   "outputs": [],
   "source": [
    "columns_acc = acc_2019.columns.str.strip()"
   ]
  },
  {
   "cell_type": "code",
   "execution_count": 23,
   "id": "b5828c78",
   "metadata": {},
   "outputs": [],
   "source": [
    "count_nan_2019_check = acc_2019[columns_acc].isna().sum().reset_index()\n",
    "count_nan_2020_check = acc_2020[columns_acc].isna().sum().reset_index()\n",
    "count_nan_2021_check = acc_2021[columns_acc].isna().sum().reset_index()"
   ]
  },
  {
   "cell_type": "code",
   "execution_count": 24,
   "id": "57818363",
   "metadata": {},
   "outputs": [
    {
     "data": {
      "text/html": [
       "<div>\n",
       "<style scoped>\n",
       "    .dataframe tbody tr th:only-of-type {\n",
       "        vertical-align: middle;\n",
       "    }\n",
       "\n",
       "    .dataframe tbody tr th {\n",
       "        vertical-align: top;\n",
       "    }\n",
       "\n",
       "    .dataframe thead tr th {\n",
       "        text-align: left;\n",
       "    }\n",
       "</style>\n",
       "<table border=\"1\" class=\"dataframe\">\n",
       "  <thead>\n",
       "    <tr>\n",
       "      <th></th>\n",
       "      <th colspan=\"2\" halign=\"left\">Nan_2019</th>\n",
       "      <th colspan=\"2\" halign=\"left\">Nan_2020</th>\n",
       "      <th colspan=\"2\" halign=\"left\">Nan_2021</th>\n",
       "    </tr>\n",
       "    <tr>\n",
       "      <th></th>\n",
       "      <th>index</th>\n",
       "      <th>0</th>\n",
       "      <th>index</th>\n",
       "      <th>0</th>\n",
       "      <th>index</th>\n",
       "      <th>0</th>\n",
       "    </tr>\n",
       "  </thead>\n",
       "  <tbody>\n",
       "    <tr>\n",
       "      <th>0</th>\n",
       "      <td>num_expediente</td>\n",
       "      <td>0</td>\n",
       "      <td>num_expediente</td>\n",
       "      <td>0</td>\n",
       "      <td>num_expediente</td>\n",
       "      <td>0</td>\n",
       "    </tr>\n",
       "    <tr>\n",
       "      <th>1</th>\n",
       "      <td>fecha</td>\n",
       "      <td>0</td>\n",
       "      <td>fecha</td>\n",
       "      <td>0</td>\n",
       "      <td>fecha</td>\n",
       "      <td>0</td>\n",
       "    </tr>\n",
       "    <tr>\n",
       "      <th>2</th>\n",
       "      <td>hora</td>\n",
       "      <td>0</td>\n",
       "      <td>hora</td>\n",
       "      <td>0</td>\n",
       "      <td>hora</td>\n",
       "      <td>0</td>\n",
       "    </tr>\n",
       "    <tr>\n",
       "      <th>3</th>\n",
       "      <td>cod_distrito</td>\n",
       "      <td>0</td>\n",
       "      <td>cod_distrito</td>\n",
       "      <td>0</td>\n",
       "      <td>cod_distrito</td>\n",
       "      <td>0</td>\n",
       "    </tr>\n",
       "    <tr>\n",
       "      <th>4</th>\n",
       "      <td>distrito</td>\n",
       "      <td>0</td>\n",
       "      <td>distrito</td>\n",
       "      <td>0</td>\n",
       "      <td>distrito</td>\n",
       "      <td>0</td>\n",
       "    </tr>\n",
       "    <tr>\n",
       "      <th>5</th>\n",
       "      <td>tipo_accidente</td>\n",
       "      <td>0</td>\n",
       "      <td>tipo_accidente</td>\n",
       "      <td>0</td>\n",
       "      <td>tipo_accidente</td>\n",
       "      <td>0</td>\n",
       "    </tr>\n",
       "    <tr>\n",
       "      <th>6</th>\n",
       "      <td>tipo_vehiculo</td>\n",
       "      <td>0</td>\n",
       "      <td>tipo_vehiculo</td>\n",
       "      <td>0</td>\n",
       "      <td>tipo_vehiculo</td>\n",
       "      <td>0</td>\n",
       "    </tr>\n",
       "    <tr>\n",
       "      <th>7</th>\n",
       "      <td>tipo_persona</td>\n",
       "      <td>0</td>\n",
       "      <td>tipo_persona</td>\n",
       "      <td>0</td>\n",
       "      <td>tipo_persona</td>\n",
       "      <td>0</td>\n",
       "    </tr>\n",
       "    <tr>\n",
       "      <th>8</th>\n",
       "      <td>rango_edad</td>\n",
       "      <td>0</td>\n",
       "      <td>rango_edad</td>\n",
       "      <td>0</td>\n",
       "      <td>rango_edad</td>\n",
       "      <td>0</td>\n",
       "    </tr>\n",
       "    <tr>\n",
       "      <th>9</th>\n",
       "      <td>sexo</td>\n",
       "      <td>0</td>\n",
       "      <td>sexo</td>\n",
       "      <td>0</td>\n",
       "      <td>sexo</td>\n",
       "      <td>0</td>\n",
       "    </tr>\n",
       "    <tr>\n",
       "      <th>10</th>\n",
       "      <td>coordenada_x_utm</td>\n",
       "      <td>0</td>\n",
       "      <td>coordenada_x_utm</td>\n",
       "      <td>0</td>\n",
       "      <td>coordenada_x_utm</td>\n",
       "      <td>0</td>\n",
       "    </tr>\n",
       "    <tr>\n",
       "      <th>11</th>\n",
       "      <td>coordenada_y_utm</td>\n",
       "      <td>0</td>\n",
       "      <td>coordenada_y_utm</td>\n",
       "      <td>0</td>\n",
       "      <td>coordenada_y_utm</td>\n",
       "      <td>0</td>\n",
       "    </tr>\n",
       "    <tr>\n",
       "      <th>12</th>\n",
       "      <td>positiva_alcohol</td>\n",
       "      <td>0</td>\n",
       "      <td>positiva_alcohol</td>\n",
       "      <td>0</td>\n",
       "      <td>positiva_alcohol</td>\n",
       "      <td>0</td>\n",
       "    </tr>\n",
       "  </tbody>\n",
       "</table>\n",
       "</div>"
      ],
      "text/plain": [
       "            Nan_2019             Nan_2020             Nan_2021   \n",
       "               index  0             index  0             index  0\n",
       "0     num_expediente  0    num_expediente  0    num_expediente  0\n",
       "1              fecha  0             fecha  0             fecha  0\n",
       "2               hora  0              hora  0              hora  0\n",
       "3       cod_distrito  0      cod_distrito  0      cod_distrito  0\n",
       "4           distrito  0          distrito  0          distrito  0\n",
       "5     tipo_accidente  0    tipo_accidente  0    tipo_accidente  0\n",
       "6      tipo_vehiculo  0     tipo_vehiculo  0     tipo_vehiculo  0\n",
       "7       tipo_persona  0      tipo_persona  0      tipo_persona  0\n",
       "8         rango_edad  0        rango_edad  0        rango_edad  0\n",
       "9               sexo  0              sexo  0              sexo  0\n",
       "10  coordenada_x_utm  0  coordenada_x_utm  0  coordenada_x_utm  0\n",
       "11  coordenada_y_utm  0  coordenada_y_utm  0  coordenada_y_utm  0\n",
       "12  positiva_alcohol  0  positiva_alcohol  0  positiva_alcohol  0"
      ]
     },
     "execution_count": 24,
     "metadata": {},
     "output_type": "execute_result"
    }
   ],
   "source": [
    "count_nan_acc_check = pd.concat([count_nan_2019_check,count_nan_2020_check,count_nan_2021_check],axis=1,\n",
    "                             keys=['Nan_2019','Nan_2020','Nan_2021']) \n",
    "count_nan_acc_check"
   ]
  },
  {
   "cell_type": "raw",
   "id": "4a4f65d1",
   "metadata": {},
   "source": [
    "Antes de fusionar los ficheros de accidentes, comprobamos lo siguiente:\n",
    "    - nº expediente: Confirmar que el año del expediente coincide con la fecha\n",
    "        Según la información de la fuente, la estructura del número de expediente atiende a:\n",
    "        AAAASNNNNNN\n",
    "            AAAA: año, S: expediente con accidente, NNNNNN: nº correlativo por año\n",
    "            Puede haber varios expendientes con el mismo numero, uno para cada afectado\n",
    "    - categorias de:\n",
    "        - Tipo de accidente\n",
    "        - Tipo de vehiculo\n",
    "        - Tipo de persona\n",
    "        - Rango de edad\n",
    "        - Sexo\n",
    "        - Positivo en alcohol"
   ]
  },
  {
   "cell_type": "code",
   "execution_count": 25,
   "id": "b3d19ac5",
   "metadata": {},
   "outputs": [],
   "source": [
    "import datetime"
   ]
  },
  {
   "cell_type": "code",
   "execution_count": 26,
   "id": "0163607b",
   "metadata": {
    "scrolled": false
   },
   "outputs": [
    {
     "name": "stderr",
     "output_type": "stream",
     "text": [
      "/tmp/ipykernel_5071/3420794535.py:1: SettingWithCopyWarning: \n",
      "A value is trying to be set on a copy of a slice from a DataFrame.\n",
      "Try using .loc[row_indexer,col_indexer] = value instead\n",
      "\n",
      "See the caveats in the documentation: https://pandas.pydata.org/pandas-docs/stable/user_guide/indexing.html#returning-a-view-versus-a-copy\n",
      "  acc_2019['year_date'] = pd.DatetimeIndex(acc_2019['fecha']).year.astype(int)\n",
      "/tmp/ipykernel_5071/3420794535.py:2: SettingWithCopyWarning: \n",
      "A value is trying to be set on a copy of a slice from a DataFrame.\n",
      "Try using .loc[row_indexer,col_indexer] = value instead\n",
      "\n",
      "See the caveats in the documentation: https://pandas.pydata.org/pandas-docs/stable/user_guide/indexing.html#returning-a-view-versus-a-copy\n",
      "  acc_2019['year_exp'] = acc_2019['num_expediente'].str[:4].astype(int)\n",
      "/tmp/ipykernel_5071/3420794535.py:3: SettingWithCopyWarning: \n",
      "A value is trying to be set on a copy of a slice from a DataFrame.\n",
      "Try using .loc[row_indexer,col_indexer] = value instead\n",
      "\n",
      "See the caveats in the documentation: https://pandas.pydata.org/pandas-docs/stable/user_guide/indexing.html#returning-a-view-versus-a-copy\n",
      "  acc_2019['year_equal_cond'] = acc_2019['year_exp']-(acc_2019['year_date'])\n"
     ]
    },
    {
     "data": {
      "text/html": [
       "<div>\n",
       "<style scoped>\n",
       "    .dataframe tbody tr th:only-of-type {\n",
       "        vertical-align: middle;\n",
       "    }\n",
       "\n",
       "    .dataframe tbody tr th {\n",
       "        vertical-align: top;\n",
       "    }\n",
       "\n",
       "    .dataframe thead th {\n",
       "        text-align: right;\n",
       "    }\n",
       "</style>\n",
       "<table border=\"1\" class=\"dataframe\">\n",
       "  <thead>\n",
       "    <tr style=\"text-align: right;\">\n",
       "      <th></th>\n",
       "      <th>year_equal_cond</th>\n",
       "      <th>num_expediente</th>\n",
       "    </tr>\n",
       "  </thead>\n",
       "  <tbody>\n",
       "    <tr>\n",
       "      <th>0</th>\n",
       "      <td>-1</td>\n",
       "      <td>2</td>\n",
       "    </tr>\n",
       "    <tr>\n",
       "      <th>1</th>\n",
       "      <td>0</td>\n",
       "      <td>51545</td>\n",
       "    </tr>\n",
       "  </tbody>\n",
       "</table>\n",
       "</div>"
      ],
      "text/plain": [
       "   year_equal_cond  num_expediente\n",
       "0               -1               2\n",
       "1                0           51545"
      ]
     },
     "execution_count": 26,
     "metadata": {},
     "output_type": "execute_result"
    }
   ],
   "source": [
    "acc_2019['year_date'] = pd.DatetimeIndex(acc_2019['fecha']).year.astype(int)\n",
    "acc_2019['year_exp'] = acc_2019['num_expediente'].str[:4].astype(int)\n",
    "acc_2019['year_equal_cond'] = acc_2019['year_exp']-(acc_2019['year_date'])\n",
    "acc_2019.groupby('year_equal_cond')['num_expediente'].count().reset_index()"
   ]
  },
  {
   "cell_type": "code",
   "execution_count": 27,
   "id": "ae7abbdd",
   "metadata": {
    "scrolled": true
   },
   "outputs": [],
   "source": [
    "# accidents_2019_df_clean['year_equal'] =accidents_2019_df_clean['year_exp'].equals(accidents_2019_df_clean['year_date'])\n",
    "# accidents_2019_df_clean.head()"
   ]
  },
  {
   "cell_type": "code",
   "execution_count": 28,
   "id": "6cdaecc8",
   "metadata": {},
   "outputs": [
    {
     "name": "stderr",
     "output_type": "stream",
     "text": [
      "/tmp/ipykernel_5071/1015613943.py:1: SettingWithCopyWarning: \n",
      "A value is trying to be set on a copy of a slice from a DataFrame.\n",
      "Try using .loc[row_indexer,col_indexer] = value instead\n",
      "\n",
      "See the caveats in the documentation: https://pandas.pydata.org/pandas-docs/stable/user_guide/indexing.html#returning-a-view-versus-a-copy\n",
      "  acc_2020['year_date'] = pd.DatetimeIndex(acc_2020['fecha']).year.astype(int)\n",
      "/tmp/ipykernel_5071/1015613943.py:2: SettingWithCopyWarning: \n",
      "A value is trying to be set on a copy of a slice from a DataFrame.\n",
      "Try using .loc[row_indexer,col_indexer] = value instead\n",
      "\n",
      "See the caveats in the documentation: https://pandas.pydata.org/pandas-docs/stable/user_guide/indexing.html#returning-a-view-versus-a-copy\n",
      "  acc_2020['year_exp'] = acc_2020['num_expediente'].str[:4].astype(int)\n",
      "/tmp/ipykernel_5071/1015613943.py:3: SettingWithCopyWarning: \n",
      "A value is trying to be set on a copy of a slice from a DataFrame.\n",
      "Try using .loc[row_indexer,col_indexer] = value instead\n",
      "\n",
      "See the caveats in the documentation: https://pandas.pydata.org/pandas-docs/stable/user_guide/indexing.html#returning-a-view-versus-a-copy\n",
      "  acc_2020['year_equal_cond'] =acc_2020['year_exp']-(acc_2020['year_date'])\n"
     ]
    },
    {
     "data": {
      "text/html": [
       "<div>\n",
       "<style scoped>\n",
       "    .dataframe tbody tr th:only-of-type {\n",
       "        vertical-align: middle;\n",
       "    }\n",
       "\n",
       "    .dataframe tbody tr th {\n",
       "        vertical-align: top;\n",
       "    }\n",
       "\n",
       "    .dataframe thead th {\n",
       "        text-align: right;\n",
       "    }\n",
       "</style>\n",
       "<table border=\"1\" class=\"dataframe\">\n",
       "  <thead>\n",
       "    <tr style=\"text-align: right;\">\n",
       "      <th></th>\n",
       "      <th>year_equal_cond</th>\n",
       "      <th>num_expediente</th>\n",
       "    </tr>\n",
       "  </thead>\n",
       "  <tbody>\n",
       "    <tr>\n",
       "      <th>0</th>\n",
       "      <td>-1</td>\n",
       "      <td>2</td>\n",
       "    </tr>\n",
       "    <tr>\n",
       "      <th>1</th>\n",
       "      <td>0</td>\n",
       "      <td>32205</td>\n",
       "    </tr>\n",
       "  </tbody>\n",
       "</table>\n",
       "</div>"
      ],
      "text/plain": [
       "   year_equal_cond  num_expediente\n",
       "0               -1               2\n",
       "1                0           32205"
      ]
     },
     "execution_count": 28,
     "metadata": {},
     "output_type": "execute_result"
    }
   ],
   "source": [
    "acc_2020['year_date'] = pd.DatetimeIndex(acc_2020['fecha']).year.astype(int)\n",
    "acc_2020['year_exp'] = acc_2020['num_expediente'].str[:4].astype(int)\n",
    "acc_2020['year_equal_cond'] =acc_2020['year_exp']-(acc_2020['year_date'])\n",
    "acc_2020.groupby('year_equal_cond')['num_expediente'].count().reset_index()"
   ]
  },
  {
   "cell_type": "code",
   "execution_count": 29,
   "id": "d7a9fcb5",
   "metadata": {},
   "outputs": [
    {
     "name": "stderr",
     "output_type": "stream",
     "text": [
      "/tmp/ipykernel_5071/2576626057.py:1: SettingWithCopyWarning: \n",
      "A value is trying to be set on a copy of a slice from a DataFrame.\n",
      "Try using .loc[row_indexer,col_indexer] = value instead\n",
      "\n",
      "See the caveats in the documentation: https://pandas.pydata.org/pandas-docs/stable/user_guide/indexing.html#returning-a-view-versus-a-copy\n",
      "  acc_2021['year_date'] = pd.DatetimeIndex(acc_2021['fecha']).year.astype(int)\n",
      "/tmp/ipykernel_5071/2576626057.py:2: SettingWithCopyWarning: \n",
      "A value is trying to be set on a copy of a slice from a DataFrame.\n",
      "Try using .loc[row_indexer,col_indexer] = value instead\n",
      "\n",
      "See the caveats in the documentation: https://pandas.pydata.org/pandas-docs/stable/user_guide/indexing.html#returning-a-view-versus-a-copy\n",
      "  acc_2021['year_exp'] = acc_2021['num_expediente'].str[:4].astype(int)\n",
      "/tmp/ipykernel_5071/2576626057.py:3: SettingWithCopyWarning: \n",
      "A value is trying to be set on a copy of a slice from a DataFrame.\n",
      "Try using .loc[row_indexer,col_indexer] = value instead\n",
      "\n",
      "See the caveats in the documentation: https://pandas.pydata.org/pandas-docs/stable/user_guide/indexing.html#returning-a-view-versus-a-copy\n",
      "  acc_2021['year_equal_cond'] =acc_2021['year_exp']-(acc_2021['year_date'])\n"
     ]
    },
    {
     "data": {
      "text/html": [
       "<div>\n",
       "<style scoped>\n",
       "    .dataframe tbody tr th:only-of-type {\n",
       "        vertical-align: middle;\n",
       "    }\n",
       "\n",
       "    .dataframe tbody tr th {\n",
       "        vertical-align: top;\n",
       "    }\n",
       "\n",
       "    .dataframe thead th {\n",
       "        text-align: right;\n",
       "    }\n",
       "</style>\n",
       "<table border=\"1\" class=\"dataframe\">\n",
       "  <thead>\n",
       "    <tr style=\"text-align: right;\">\n",
       "      <th></th>\n",
       "      <th>year_equal_cond</th>\n",
       "      <th>num_expediente</th>\n",
       "    </tr>\n",
       "  </thead>\n",
       "  <tbody>\n",
       "    <tr>\n",
       "      <th>0</th>\n",
       "      <td>-1</td>\n",
       "      <td>5</td>\n",
       "    </tr>\n",
       "    <tr>\n",
       "      <th>1</th>\n",
       "      <td>0</td>\n",
       "      <td>41547</td>\n",
       "    </tr>\n",
       "  </tbody>\n",
       "</table>\n",
       "</div>"
      ],
      "text/plain": [
       "   year_equal_cond  num_expediente\n",
       "0               -1               5\n",
       "1                0           41547"
      ]
     },
     "execution_count": 29,
     "metadata": {},
     "output_type": "execute_result"
    }
   ],
   "source": [
    "acc_2021['year_date'] = pd.DatetimeIndex(acc_2021['fecha']).year.astype(int)\n",
    "acc_2021['year_exp'] = acc_2021['num_expediente'].str[:4].astype(int)\n",
    "acc_2021['year_equal_cond'] =acc_2021['year_exp']-(acc_2021['year_date'])\n",
    "acc_2021.groupby('year_equal_cond')['num_expediente'].count().reset_index()"
   ]
  },
  {
   "cell_type": "raw",
   "id": "43ed530a",
   "metadata": {},
   "source": [
    "Eliminamos las filas donde no coindicen ambos años\n",
    "Posteriormente, eliminaremos la columna de 'year expediente' y el de la condición"
   ]
  },
  {
   "cell_type": "code",
   "execution_count": 32,
   "id": "18f418a2",
   "metadata": {},
   "outputs": [
    {
     "data": {
      "text/plain": [
       "Int64Index([0, 1], dtype='int64')"
      ]
     },
     "execution_count": 32,
     "metadata": {},
     "output_type": "execute_result"
    }
   ],
   "source": [
    "indexNames19 = acc_2019[ acc_2019['year_equal_cond'] == -1 ].index\n",
    "indexNames19"
   ]
  },
  {
   "cell_type": "code",
   "execution_count": 34,
   "id": "9c26ffa8",
   "metadata": {},
   "outputs": [
    {
     "name": "stderr",
     "output_type": "stream",
     "text": [
      "/home/dsc/anaconda3/lib/python3.8/site-packages/pandas/core/frame.py:4906: SettingWithCopyWarning: \n",
      "A value is trying to be set on a copy of a slice from a DataFrame\n",
      "\n",
      "See the caveats in the documentation: https://pandas.pydata.org/pandas-docs/stable/user_guide/indexing.html#returning-a-view-versus-a-copy\n",
      "  return super().drop(\n"
     ]
    }
   ],
   "source": [
    "acc_2019.drop(indexNames19,inplace=True)"
   ]
  },
  {
   "cell_type": "code",
   "execution_count": 35,
   "id": "aade1d03",
   "metadata": {},
   "outputs": [],
   "source": [
    "acc_2019.drop(['year_equal_cond','year_exp'],axis=1,inplace=True)"
   ]
  },
  {
   "cell_type": "code",
   "execution_count": 37,
   "id": "1104f3f9",
   "metadata": {},
   "outputs": [
    {
     "data": {
      "text/plain": [
       "(51545, 14)"
      ]
     },
     "execution_count": 37,
     "metadata": {},
     "output_type": "execute_result"
    }
   ],
   "source": [
    "acc_2019.shape"
   ]
  },
  {
   "cell_type": "code",
   "execution_count": 38,
   "id": "bcbb365f",
   "metadata": {},
   "outputs": [],
   "source": [
    "indexNames20 = acc_2020[acc_2020['year_equal_cond']==-1].index\n",
    "acc_2020.drop(indexNames20,inplace=True)\n",
    "acc_2020.drop(['year_equal_cond','year_exp'],axis=1,inplace=True)"
   ]
  },
  {
   "cell_type": "code",
   "execution_count": 39,
   "id": "80ae2fdc",
   "metadata": {},
   "outputs": [
    {
     "data": {
      "text/plain": [
       "(32205, 14)"
      ]
     },
     "execution_count": 39,
     "metadata": {},
     "output_type": "execute_result"
    }
   ],
   "source": [
    "acc_2020.shape"
   ]
  },
  {
   "cell_type": "code",
   "execution_count": 40,
   "id": "7a39f4ef",
   "metadata": {},
   "outputs": [],
   "source": [
    "indexNames21 = acc_2021[acc_2021['year_equal_cond']==-1].index\n",
    "acc_2021.drop(indexNames21,inplace=True)\n",
    "acc_2021.drop(['year_equal_cond','year_exp'],axis=1,inplace=True)"
   ]
  },
  {
   "cell_type": "code",
   "execution_count": 41,
   "id": "770b2041",
   "metadata": {},
   "outputs": [
    {
     "data": {
      "text/plain": [
       "(41547, 14)"
      ]
     },
     "execution_count": 41,
     "metadata": {},
     "output_type": "execute_result"
    }
   ],
   "source": [
    "acc_2021.shape"
   ]
  },
  {
   "cell_type": "raw",
   "id": "4f2c81f9",
   "metadata": {},
   "source": [
    "Tipo de accidente\n",
    "        - Tipo de vehiculo\n",
    "        - Tipo de persona\n",
    "        - Rango de edad\n",
    "        - Sexo\n",
    "        - Positivo en alcohol"
   ]
  },
  {
   "cell_type": "code",
   "execution_count": 42,
   "id": "f6d4e627",
   "metadata": {},
   "outputs": [],
   "source": [
    "var_to_check = ['tipo_vehiculo','tipo_accidente', 'tipo_persona', 'rango_edad', 'sexo', 'positiva_alcohol']"
   ]
  },
  {
   "cell_type": "code",
   "execution_count": 43,
   "id": "86235b52",
   "metadata": {},
   "outputs": [
    {
     "data": {
      "text/plain": [
       "['tipo_vehiculo: NO ok',\n",
       " 'tipo_accidente: ok',\n",
       " 'tipo_persona: ok',\n",
       " 'rango_edad: ok',\n",
       " 'sexo: ok',\n",
       " 'positiva_alcohol: ok']"
      ]
     },
     "execution_count": 43,
     "metadata": {},
     "output_type": "execute_result"
    }
   ],
   "source": [
    "check_var = []\n",
    "\n",
    "for i in var_to_check:\n",
    "    acc_type_2019 = acc_2019[i].unique().tolist()\n",
    "    acc_type_2020 = acc_2020[i].unique().tolist()\n",
    "    acc_type_2021 = acc_2021[i].unique().tolist()\n",
    "    if(set(acc_type_2019) == set(acc_type_2020)):\n",
    "        if (set(acc_type_2019) == set(acc_type_2021)):\n",
    "            check_var.append(i+\": ok\")\n",
    "        else:\n",
    "            check_var.append(i+\": NO ok\")\n",
    "    else:\n",
    "        check_var.append(i+\": NO ok\")\n",
    "check_var"
   ]
  },
  {
   "cell_type": "raw",
   "id": "39a9ba28",
   "metadata": {},
   "source": [
    "Vemos que hay una diferencia en las categorias de 'tipo de vehiculo' entre los distintos datasets, vamos a analizar:"
   ]
  },
  {
   "cell_type": "code",
   "execution_count": 44,
   "id": "0a64707f",
   "metadata": {},
   "outputs": [],
   "source": [
    "veh_type_2019 = acc_2019['tipo_vehiculo'].unique().tolist()\n",
    "veh_type_2020 = acc_2020['tipo_vehiculo'].unique().tolist()\n",
    "veh_type_2021 = acc_2021['tipo_vehiculo'].unique().tolist()"
   ]
  },
  {
   "cell_type": "code",
   "execution_count": 45,
   "id": "c006ac42",
   "metadata": {},
   "outputs": [],
   "source": [
    "veh_type_2019_df = pd.DataFrame(veh_type_2019, columns=['Type_2019'])\n",
    "veh_type_2020_df = pd.DataFrame(veh_type_2020, columns=['Type_2020'])\n",
    "veh_type_2021_df = pd.DataFrame(veh_type_2021, columns=['Type_2021'])"
   ]
  },
  {
   "cell_type": "code",
   "execution_count": 46,
   "id": "bf96320d",
   "metadata": {},
   "outputs": [
    {
     "data": {
      "text/html": [
       "<div>\n",
       "<style scoped>\n",
       "    .dataframe tbody tr th:only-of-type {\n",
       "        vertical-align: middle;\n",
       "    }\n",
       "\n",
       "    .dataframe tbody tr th {\n",
       "        vertical-align: top;\n",
       "    }\n",
       "\n",
       "    .dataframe thead th {\n",
       "        text-align: right;\n",
       "    }\n",
       "</style>\n",
       "<table border=\"1\" class=\"dataframe\">\n",
       "  <thead>\n",
       "    <tr style=\"text-align: right;\">\n",
       "      <th></th>\n",
       "      <th>Type_2019</th>\n",
       "      <th>Type_2020</th>\n",
       "      <th>Type_2021</th>\n",
       "    </tr>\n",
       "  </thead>\n",
       "  <tbody>\n",
       "    <tr>\n",
       "      <th>0</th>\n",
       "      <td>Furgoneta</td>\n",
       "      <td>Furgoneta</td>\n",
       "      <td>Furgoneta</td>\n",
       "    </tr>\n",
       "    <tr>\n",
       "      <th>1</th>\n",
       "      <td>Turismo</td>\n",
       "      <td>Turismo</td>\n",
       "      <td>Turismo</td>\n",
       "    </tr>\n",
       "    <tr>\n",
       "      <th>2</th>\n",
       "      <td>Autobús</td>\n",
       "      <td>Autobús</td>\n",
       "      <td>Autobús</td>\n",
       "    </tr>\n",
       "    <tr>\n",
       "      <th>3</th>\n",
       "      <td>Ciclomotor</td>\n",
       "      <td>Ciclomotor</td>\n",
       "      <td>Ciclomotor</td>\n",
       "    </tr>\n",
       "    <tr>\n",
       "      <th>4</th>\n",
       "      <td>Motocicleta &gt; 125cc</td>\n",
       "      <td>Motocicleta &gt; 125cc</td>\n",
       "      <td>Motocicleta &gt; 125cc</td>\n",
       "    </tr>\n",
       "    <tr>\n",
       "      <th>5</th>\n",
       "      <td>Motocicleta hasta 125cc</td>\n",
       "      <td>Motocicleta hasta 125cc</td>\n",
       "      <td>Motocicleta hasta 125cc</td>\n",
       "    </tr>\n",
       "    <tr>\n",
       "      <th>6</th>\n",
       "      <td>Todo terreno</td>\n",
       "      <td>Todo terreno</td>\n",
       "      <td>Todo terreno</td>\n",
       "    </tr>\n",
       "    <tr>\n",
       "      <th>7</th>\n",
       "      <td>Bicicleta</td>\n",
       "      <td>Bicicleta</td>\n",
       "      <td>Bicicleta</td>\n",
       "    </tr>\n",
       "    <tr>\n",
       "      <th>8</th>\n",
       "      <td>Camión rígido</td>\n",
       "      <td>Camión rígido</td>\n",
       "      <td>Camión rígido</td>\n",
       "    </tr>\n",
       "    <tr>\n",
       "      <th>9</th>\n",
       "      <td>Maquinaria de obras</td>\n",
       "      <td>Maquinaria de obras</td>\n",
       "      <td>Maquinaria de obras</td>\n",
       "    </tr>\n",
       "    <tr>\n",
       "      <th>10</th>\n",
       "      <td>Tractocamión</td>\n",
       "      <td>Tractocamión</td>\n",
       "      <td>Tractocamión</td>\n",
       "    </tr>\n",
       "    <tr>\n",
       "      <th>11</th>\n",
       "      <td>Cuadriciclo no ligero</td>\n",
       "      <td>Cuadriciclo no ligero</td>\n",
       "      <td>Cuadriciclo no ligero</td>\n",
       "    </tr>\n",
       "    <tr>\n",
       "      <th>12</th>\n",
       "      <td>Vehículo articulado</td>\n",
       "      <td>Vehículo articulado</td>\n",
       "      <td>Vehículo articulado</td>\n",
       "    </tr>\n",
       "    <tr>\n",
       "      <th>13</th>\n",
       "      <td>Autobús articulado</td>\n",
       "      <td>Autobús articulado</td>\n",
       "      <td>Autobús articulado</td>\n",
       "    </tr>\n",
       "    <tr>\n",
       "      <th>14</th>\n",
       "      <td>Otros vehículos con motor</td>\n",
       "      <td>Otros vehículos con motor</td>\n",
       "      <td>Otros vehículos con motor</td>\n",
       "    </tr>\n",
       "    <tr>\n",
       "      <th>15</th>\n",
       "      <td>Autocaravana</td>\n",
       "      <td>Autocaravana</td>\n",
       "      <td>Autocaravana</td>\n",
       "    </tr>\n",
       "    <tr>\n",
       "      <th>16</th>\n",
       "      <td>Patinete</td>\n",
       "      <td>Patinete</td>\n",
       "      <td>Patinete</td>\n",
       "    </tr>\n",
       "    <tr>\n",
       "      <th>17</th>\n",
       "      <td>Ciclo</td>\n",
       "      <td>Ciclo</td>\n",
       "      <td>Ciclo</td>\n",
       "    </tr>\n",
       "    <tr>\n",
       "      <th>18</th>\n",
       "      <td>Cuadriciclo ligero</td>\n",
       "      <td>Cuadriciclo ligero</td>\n",
       "      <td>Cuadriciclo ligero</td>\n",
       "    </tr>\n",
       "    <tr>\n",
       "      <th>19</th>\n",
       "      <td>VMU eléctrico</td>\n",
       "      <td>VMU eléctrico</td>\n",
       "      <td>VMU eléctrico</td>\n",
       "    </tr>\n",
       "    <tr>\n",
       "      <th>20</th>\n",
       "      <td>Semiremolque</td>\n",
       "      <td>Semiremolque</td>\n",
       "      <td>Semiremolque</td>\n",
       "    </tr>\n",
       "    <tr>\n",
       "      <th>21</th>\n",
       "      <td>Microbús &lt;= 17 plazas</td>\n",
       "      <td>NaN</td>\n",
       "      <td>NaN</td>\n",
       "    </tr>\n",
       "    <tr>\n",
       "      <th>22</th>\n",
       "      <td>Tranvía</td>\n",
       "      <td>NaN</td>\n",
       "      <td>NaN</td>\n",
       "    </tr>\n",
       "    <tr>\n",
       "      <th>23</th>\n",
       "      <td>Caravana</td>\n",
       "      <td>NaN</td>\n",
       "      <td>NaN</td>\n",
       "    </tr>\n",
       "    <tr>\n",
       "      <th>24</th>\n",
       "      <td>Sin especificar</td>\n",
       "      <td>Sin especificar</td>\n",
       "      <td>Sin especificar</td>\n",
       "    </tr>\n",
       "    <tr>\n",
       "      <th>25</th>\n",
       "      <td>Autobus EMT</td>\n",
       "      <td>Autobus EMT</td>\n",
       "      <td>Autobus EMT</td>\n",
       "    </tr>\n",
       "    <tr>\n",
       "      <th>26</th>\n",
       "      <td>Remolque</td>\n",
       "      <td>Remolque</td>\n",
       "      <td>Remolque</td>\n",
       "    </tr>\n",
       "    <tr>\n",
       "      <th>27</th>\n",
       "      <td>Camión de bomberos</td>\n",
       "      <td>Camión de bomberos</td>\n",
       "      <td>Camión de bomberos</td>\n",
       "    </tr>\n",
       "    <tr>\n",
       "      <th>28</th>\n",
       "      <td>Otros vehículos sin motor</td>\n",
       "      <td>Otros vehículos sin motor</td>\n",
       "      <td>Otros vehículos sin motor</td>\n",
       "    </tr>\n",
       "    <tr>\n",
       "      <th>29</th>\n",
       "      <td>Bicicleta EPAC (pedaleo asistido)</td>\n",
       "      <td>Bicicleta EPAC (pedaleo asistido)</td>\n",
       "      <td>Bicicleta EPAC (pedaleo asistido)</td>\n",
       "    </tr>\n",
       "    <tr>\n",
       "      <th>30</th>\n",
       "      <td>NaN</td>\n",
       "      <td>Moto de tres ruedas &gt; 125cc</td>\n",
       "      <td>Moto de tres ruedas &gt; 125cc</td>\n",
       "    </tr>\n",
       "    <tr>\n",
       "      <th>31</th>\n",
       "      <td>NaN</td>\n",
       "      <td>Tren/metro</td>\n",
       "      <td>Tren/metro</td>\n",
       "    </tr>\n",
       "    <tr>\n",
       "      <th>32</th>\n",
       "      <td>NaN</td>\n",
       "      <td>Ambulancia SAMUR</td>\n",
       "      <td>Ambulancia SAMUR</td>\n",
       "    </tr>\n",
       "    <tr>\n",
       "      <th>33</th>\n",
       "      <td>NaN</td>\n",
       "      <td>Moto de tres ruedas hasta 125cc</td>\n",
       "      <td>Moto de tres ruedas hasta 125cc</td>\n",
       "    </tr>\n",
       "    <tr>\n",
       "      <th>34</th>\n",
       "      <td>NaN</td>\n",
       "      <td>Ciclomotor de dos ruedas L1e-B</td>\n",
       "      <td>Ciclomotor de dos ruedas L1e-B</td>\n",
       "    </tr>\n",
       "    <tr>\n",
       "      <th>35</th>\n",
       "      <td>NaN</td>\n",
       "      <td>Maquinaria agrícola</td>\n",
       "      <td>Maquinaria agrícola</td>\n",
       "    </tr>\n",
       "    <tr>\n",
       "      <th>36</th>\n",
       "      <td>NaN</td>\n",
       "      <td>Autobús articulado EMT</td>\n",
       "      <td>Autobús articulado EMT</td>\n",
       "    </tr>\n",
       "    <tr>\n",
       "      <th>37</th>\n",
       "      <td>NaN</td>\n",
       "      <td>Ciclomotor de tres ruedas</td>\n",
       "      <td>Ciclomotor de tres ruedas</td>\n",
       "    </tr>\n",
       "    <tr>\n",
       "      <th>38</th>\n",
       "      <td>NaN</td>\n",
       "      <td>NaN</td>\n",
       "      <td>Ciclo de motor L1e-A</td>\n",
       "    </tr>\n",
       "    <tr>\n",
       "      <th>39</th>\n",
       "      <td>NaN</td>\n",
       "      <td>NaN</td>\n",
       "      <td>Tranvía</td>\n",
       "    </tr>\n",
       "  </tbody>\n",
       "</table>\n",
       "</div>"
      ],
      "text/plain": [
       "                            Type_2019                          Type_2020  \\\n",
       "0                           Furgoneta                          Furgoneta   \n",
       "1                             Turismo                            Turismo   \n",
       "2                             Autobús                            Autobús   \n",
       "3                          Ciclomotor                         Ciclomotor   \n",
       "4                 Motocicleta > 125cc                Motocicleta > 125cc   \n",
       "5             Motocicleta hasta 125cc            Motocicleta hasta 125cc   \n",
       "6                        Todo terreno                       Todo terreno   \n",
       "7                           Bicicleta                          Bicicleta   \n",
       "8                       Camión rígido                      Camión rígido   \n",
       "9                 Maquinaria de obras                Maquinaria de obras   \n",
       "10                       Tractocamión                       Tractocamión   \n",
       "11              Cuadriciclo no ligero              Cuadriciclo no ligero   \n",
       "12                Vehículo articulado                Vehículo articulado   \n",
       "13                 Autobús articulado                 Autobús articulado   \n",
       "14          Otros vehículos con motor          Otros vehículos con motor   \n",
       "15                       Autocaravana                       Autocaravana   \n",
       "16                           Patinete                           Patinete   \n",
       "17                              Ciclo                              Ciclo   \n",
       "18                 Cuadriciclo ligero                 Cuadriciclo ligero   \n",
       "19                      VMU eléctrico                      VMU eléctrico   \n",
       "20                       Semiremolque                       Semiremolque   \n",
       "21              Microbús <= 17 plazas                                NaN   \n",
       "22                            Tranvía                                NaN   \n",
       "23                           Caravana                                NaN   \n",
       "24                    Sin especificar                    Sin especificar   \n",
       "25                        Autobus EMT                        Autobus EMT   \n",
       "26                           Remolque                           Remolque   \n",
       "27                 Camión de bomberos                 Camión de bomberos   \n",
       "28          Otros vehículos sin motor          Otros vehículos sin motor   \n",
       "29  Bicicleta EPAC (pedaleo asistido)  Bicicleta EPAC (pedaleo asistido)   \n",
       "30                                NaN        Moto de tres ruedas > 125cc   \n",
       "31                                NaN                         Tren/metro   \n",
       "32                                NaN                   Ambulancia SAMUR   \n",
       "33                                NaN    Moto de tres ruedas hasta 125cc   \n",
       "34                                NaN     Ciclomotor de dos ruedas L1e-B   \n",
       "35                                NaN                Maquinaria agrícola   \n",
       "36                                NaN             Autobús articulado EMT   \n",
       "37                                NaN          Ciclomotor de tres ruedas   \n",
       "38                                NaN                                NaN   \n",
       "39                                NaN                                NaN   \n",
       "\n",
       "                            Type_2021  \n",
       "0                           Furgoneta  \n",
       "1                             Turismo  \n",
       "2                             Autobús  \n",
       "3                          Ciclomotor  \n",
       "4                 Motocicleta > 125cc  \n",
       "5             Motocicleta hasta 125cc  \n",
       "6                        Todo terreno  \n",
       "7                           Bicicleta  \n",
       "8                       Camión rígido  \n",
       "9                 Maquinaria de obras  \n",
       "10                       Tractocamión  \n",
       "11              Cuadriciclo no ligero  \n",
       "12                Vehículo articulado  \n",
       "13                 Autobús articulado  \n",
       "14          Otros vehículos con motor  \n",
       "15                       Autocaravana  \n",
       "16                           Patinete  \n",
       "17                              Ciclo  \n",
       "18                 Cuadriciclo ligero  \n",
       "19                      VMU eléctrico  \n",
       "20                       Semiremolque  \n",
       "21                                NaN  \n",
       "22                                NaN  \n",
       "23                                NaN  \n",
       "24                    Sin especificar  \n",
       "25                        Autobus EMT  \n",
       "26                           Remolque  \n",
       "27                 Camión de bomberos  \n",
       "28          Otros vehículos sin motor  \n",
       "29  Bicicleta EPAC (pedaleo asistido)  \n",
       "30        Moto de tres ruedas > 125cc  \n",
       "31                         Tren/metro  \n",
       "32                   Ambulancia SAMUR  \n",
       "33    Moto de tres ruedas hasta 125cc  \n",
       "34     Ciclomotor de dos ruedas L1e-B  \n",
       "35                Maquinaria agrícola  \n",
       "36             Autobús articulado EMT  \n",
       "37          Ciclomotor de tres ruedas  \n",
       "38               Ciclo de motor L1e-A  \n",
       "39                            Tranvía  "
      ]
     },
     "execution_count": 46,
     "metadata": {},
     "output_type": "execute_result"
    }
   ],
   "source": [
    "type_veh_19_20 = pd.merge(left=veh_type_2019_df,right=veh_type_2020_df, left_on='Type_2019', right_on='Type_2020',\n",
    "                         how='outer')\n",
    "type_veh_19_20_21 = pd.merge(left=type_veh_19_20,right=veh_type_2021_df, left_on='Type_2020', right_on='Type_2021',\n",
    "                            how='outer')\n",
    "type_veh_19_20_21"
   ]
  },
  {
   "cell_type": "raw",
   "id": "aa72f43f",
   "metadata": {},
   "source": [
    "Vemos que todas las listas coinciden en el nombre de las categorias, pero no todos contienen todas las categorias.\n",
    "LLegados a este punto generaremos dos datasets de accidentes:\n",
    "- sin tener en cuenta las categorias de accidentes\n",
    "- teniendo en cuenta las categorias de los accidentes:\n",
    "    Tendremos que eliminar aquellas lineas donde sus tipos de vehiculos no sean coincidentes en los tres datasets \n",
    "    Habrá que eliminar también aquellas lineas cuya categoria sea 'sin especificar'"
   ]
  },
  {
   "cell_type": "raw",
   "id": "b886bdfa",
   "metadata": {},
   "source": [
    "Vamos a ver las categorias de vehiculos que no estan en los tres datasets:"
   ]
  },
  {
   "cell_type": "code",
   "execution_count": 47,
   "id": "77c84cb9",
   "metadata": {},
   "outputs": [],
   "source": [
    "veh_type = veh_type_2019 + veh_type_2020 + veh_type_2021"
   ]
  },
  {
   "cell_type": "code",
   "execution_count": 48,
   "id": "423ce84f",
   "metadata": {},
   "outputs": [],
   "source": [
    "from collections import Counter"
   ]
  },
  {
   "cell_type": "code",
   "execution_count": 49,
   "id": "4d3ff4dd",
   "metadata": {},
   "outputs": [],
   "source": [
    "def mycounter(series):\n",
    "    return Counter(list(series))"
   ]
  },
  {
   "cell_type": "code",
   "execution_count": 50,
   "id": "15d9e21a",
   "metadata": {},
   "outputs": [],
   "source": [
    "veh_type_freq = mycounter(veh_type)"
   ]
  },
  {
   "cell_type": "code",
   "execution_count": 51,
   "id": "3674ec23",
   "metadata": {},
   "outputs": [],
   "source": [
    "type_veh_del = list({x: count for x, count in veh_type_freq.items() if count < 3})"
   ]
  },
  {
   "cell_type": "code",
   "execution_count": 52,
   "id": "c0e8a5c7",
   "metadata": {},
   "outputs": [],
   "source": [
    "type_veh_ok = list({x: count for x, count in veh_type_freq.items() if count == 3})"
   ]
  },
  {
   "cell_type": "code",
   "execution_count": 53,
   "id": "0edbf2e1",
   "metadata": {},
   "outputs": [],
   "source": [
    "vehicle = pd.DataFrame(type_veh_ok, columns = ['Type'])"
   ]
  },
  {
   "cell_type": "code",
   "execution_count": 54,
   "id": "b84f06ee",
   "metadata": {},
   "outputs": [
    {
     "data": {
      "text/plain": [
       "['Microbús <= 17 plazas',\n",
       " 'Tranvía',\n",
       " 'Caravana',\n",
       " 'Moto de tres ruedas > 125cc',\n",
       " 'Tren/metro',\n",
       " 'Ambulancia SAMUR',\n",
       " 'Moto de tres ruedas hasta 125cc',\n",
       " 'Ciclomotor de dos ruedas L1e-B',\n",
       " 'Maquinaria agrícola',\n",
       " 'Autobús articulado EMT',\n",
       " 'Ciclomotor de tres ruedas',\n",
       " 'Ciclo de motor L1e-A']"
      ]
     },
     "execution_count": 54,
     "metadata": {},
     "output_type": "execute_result"
    }
   ],
   "source": [
    "type_veh_del"
   ]
  },
  {
   "cell_type": "code",
   "execution_count": 56,
   "id": "247c7d04",
   "metadata": {},
   "outputs": [],
   "source": [
    "veh_type_del_2019 = [x for x in veh_type_2019 if x in type_veh_del]\n",
    "veh_type_del_2020 = [x for x in veh_type_2020 if x in type_veh_del]\n",
    "veh_type_del_2021 = [x for x in veh_type_2021 if x in type_veh_del]"
   ]
  },
  {
   "cell_type": "raw",
   "id": "a69a2f9e",
   "metadata": {},
   "source": [
    "Ahora vamos a hacer una copia de los 3 dataframes, ya que vamos a empezar a aplicar las modificaciones para eliminar los tipos de vehiculos que nos son comunes en los ficheros."
   ]
  },
  {
   "cell_type": "code",
   "execution_count": 61,
   "id": "94893ad2",
   "metadata": {},
   "outputs": [],
   "source": [
    "acc_veh_2019 = acc_2019.copy()\n",
    "acc_veh_2020 = acc_2020.copy()\n",
    "acc_veh_2021 = acc_2021.copy()"
   ]
  },
  {
   "cell_type": "code",
   "execution_count": 62,
   "id": "bcf3ddc6",
   "metadata": {},
   "outputs": [],
   "source": [
    "acc_veh_2019['is_in_2019'] = acc_veh_2019['tipo_vehiculo'].isin(veh_type_del_2019)\n",
    "acc_veh_2020['is_in_2020'] = acc_veh_2020['tipo_vehiculo'].isin(veh_type_del_2020)\n",
    "acc_veh_2021['is_in_2021'] = acc_veh_2021['tipo_vehiculo'].isin(veh_type_del_2021)"
   ]
  },
  {
   "cell_type": "code",
   "execution_count": 65,
   "id": "9068720e",
   "metadata": {},
   "outputs": [],
   "source": [
    "index_is_in_19 = acc_veh_2019[acc_veh_2019['is_in_2019']==True].index\n",
    "acc_veh_2019.drop(index_is_in_19,inplace=True)\n",
    "acc_veh_2019.drop(['is_in_2019'],axis=1,inplace=True)"
   ]
  },
  {
   "cell_type": "code",
   "execution_count": 66,
   "id": "9b446b8e",
   "metadata": {},
   "outputs": [],
   "source": [
    "index_is_in_20 = acc_veh_2020[acc_veh_2020['is_in_2020']==True].index\n",
    "acc_veh_2020.drop(index_is_in_20,inplace=True)\n",
    "acc_veh_2020.drop(['is_in_2020'],axis=1,inplace=True)"
   ]
  },
  {
   "cell_type": "code",
   "execution_count": 67,
   "id": "51c34273",
   "metadata": {},
   "outputs": [],
   "source": [
    "index_is_in_21 = acc_veh_2021[acc_veh_2021['is_in_2021']==True].index\n",
    "acc_veh_2021.drop(index_is_in_21,inplace=True)\n",
    "acc_veh_2021.drop(['is_in_2021'],axis=1,inplace=True)"
   ]
  },
  {
   "cell_type": "raw",
   "id": "8f4783a3",
   "metadata": {},
   "source": [
    "Vamos a comprobar que finalmente las clases ya coinciden:"
   ]
  },
  {
   "cell_type": "code",
   "execution_count": 68,
   "id": "ac5e1181",
   "metadata": {},
   "outputs": [],
   "source": [
    "veh_type_2019 = acc_veh_2019['tipo_vehiculo'].unique().tolist()\n",
    "veh_type_2020 = acc_veh_2020['tipo_vehiculo'].unique().tolist()\n",
    "veh_type_2021 = acc_veh_2021['tipo_vehiculo'].unique().tolist()"
   ]
  },
  {
   "cell_type": "code",
   "execution_count": 69,
   "id": "aca0e354",
   "metadata": {},
   "outputs": [],
   "source": [
    "veh_type_2019_df = pd.DataFrame(veh_type_2019, columns=['Type_2019'])\n",
    "veh_type_2020_df = pd.DataFrame(veh_type_2020, columns=['Type_2020'])\n",
    "veh_type_2021_df = pd.DataFrame(veh_type_2021, columns=['Type_2021'])"
   ]
  },
  {
   "cell_type": "code",
   "execution_count": 70,
   "id": "e779410e",
   "metadata": {},
   "outputs": [
    {
     "data": {
      "text/html": [
       "<div>\n",
       "<style scoped>\n",
       "    .dataframe tbody tr th:only-of-type {\n",
       "        vertical-align: middle;\n",
       "    }\n",
       "\n",
       "    .dataframe tbody tr th {\n",
       "        vertical-align: top;\n",
       "    }\n",
       "\n",
       "    .dataframe thead th {\n",
       "        text-align: right;\n",
       "    }\n",
       "</style>\n",
       "<table border=\"1\" class=\"dataframe\">\n",
       "  <thead>\n",
       "    <tr style=\"text-align: right;\">\n",
       "      <th></th>\n",
       "      <th>Type_2019</th>\n",
       "      <th>Type_2020</th>\n",
       "      <th>Type_2021</th>\n",
       "      <th>Type</th>\n",
       "    </tr>\n",
       "  </thead>\n",
       "  <tbody>\n",
       "    <tr>\n",
       "      <th>0</th>\n",
       "      <td>Furgoneta</td>\n",
       "      <td>Furgoneta</td>\n",
       "      <td>Furgoneta</td>\n",
       "      <td>Furgoneta</td>\n",
       "    </tr>\n",
       "    <tr>\n",
       "      <th>1</th>\n",
       "      <td>Turismo</td>\n",
       "      <td>Turismo</td>\n",
       "      <td>Turismo</td>\n",
       "      <td>Turismo</td>\n",
       "    </tr>\n",
       "    <tr>\n",
       "      <th>2</th>\n",
       "      <td>Autobús</td>\n",
       "      <td>Autobús</td>\n",
       "      <td>Autobús</td>\n",
       "      <td>Autobús</td>\n",
       "    </tr>\n",
       "    <tr>\n",
       "      <th>3</th>\n",
       "      <td>Ciclomotor</td>\n",
       "      <td>Ciclomotor</td>\n",
       "      <td>Ciclomotor</td>\n",
       "      <td>Ciclomotor</td>\n",
       "    </tr>\n",
       "    <tr>\n",
       "      <th>4</th>\n",
       "      <td>Motocicleta &gt; 125cc</td>\n",
       "      <td>Motocicleta &gt; 125cc</td>\n",
       "      <td>Motocicleta &gt; 125cc</td>\n",
       "      <td>Motocicleta &gt; 125cc</td>\n",
       "    </tr>\n",
       "    <tr>\n",
       "      <th>5</th>\n",
       "      <td>Motocicleta hasta 125cc</td>\n",
       "      <td>Motocicleta hasta 125cc</td>\n",
       "      <td>Motocicleta hasta 125cc</td>\n",
       "      <td>Motocicleta hasta 125cc</td>\n",
       "    </tr>\n",
       "    <tr>\n",
       "      <th>6</th>\n",
       "      <td>Todo terreno</td>\n",
       "      <td>Todo terreno</td>\n",
       "      <td>Todo terreno</td>\n",
       "      <td>Todo terreno</td>\n",
       "    </tr>\n",
       "    <tr>\n",
       "      <th>7</th>\n",
       "      <td>Bicicleta</td>\n",
       "      <td>Bicicleta</td>\n",
       "      <td>Bicicleta</td>\n",
       "      <td>Bicicleta</td>\n",
       "    </tr>\n",
       "    <tr>\n",
       "      <th>8</th>\n",
       "      <td>Camión rígido</td>\n",
       "      <td>Camión rígido</td>\n",
       "      <td>Camión rígido</td>\n",
       "      <td>Camión rígido</td>\n",
       "    </tr>\n",
       "    <tr>\n",
       "      <th>9</th>\n",
       "      <td>Maquinaria de obras</td>\n",
       "      <td>Maquinaria de obras</td>\n",
       "      <td>Maquinaria de obras</td>\n",
       "      <td>Maquinaria de obras</td>\n",
       "    </tr>\n",
       "    <tr>\n",
       "      <th>10</th>\n",
       "      <td>Tractocamión</td>\n",
       "      <td>Tractocamión</td>\n",
       "      <td>Tractocamión</td>\n",
       "      <td>Tractocamión</td>\n",
       "    </tr>\n",
       "    <tr>\n",
       "      <th>11</th>\n",
       "      <td>Cuadriciclo no ligero</td>\n",
       "      <td>Cuadriciclo no ligero</td>\n",
       "      <td>Cuadriciclo no ligero</td>\n",
       "      <td>Cuadriciclo no ligero</td>\n",
       "    </tr>\n",
       "    <tr>\n",
       "      <th>12</th>\n",
       "      <td>Vehículo articulado</td>\n",
       "      <td>Vehículo articulado</td>\n",
       "      <td>Vehículo articulado</td>\n",
       "      <td>Vehículo articulado</td>\n",
       "    </tr>\n",
       "    <tr>\n",
       "      <th>13</th>\n",
       "      <td>Autobús articulado</td>\n",
       "      <td>Autobús articulado</td>\n",
       "      <td>Autobús articulado</td>\n",
       "      <td>Autobús articulado</td>\n",
       "    </tr>\n",
       "    <tr>\n",
       "      <th>14</th>\n",
       "      <td>Otros vehículos con motor</td>\n",
       "      <td>Otros vehículos con motor</td>\n",
       "      <td>Otros vehículos con motor</td>\n",
       "      <td>Otros vehículos con motor</td>\n",
       "    </tr>\n",
       "    <tr>\n",
       "      <th>15</th>\n",
       "      <td>Autocaravana</td>\n",
       "      <td>Autocaravana</td>\n",
       "      <td>Autocaravana</td>\n",
       "      <td>Autocaravana</td>\n",
       "    </tr>\n",
       "    <tr>\n",
       "      <th>16</th>\n",
       "      <td>Patinete</td>\n",
       "      <td>Patinete</td>\n",
       "      <td>Patinete</td>\n",
       "      <td>Patinete</td>\n",
       "    </tr>\n",
       "    <tr>\n",
       "      <th>17</th>\n",
       "      <td>Ciclo</td>\n",
       "      <td>Ciclo</td>\n",
       "      <td>Ciclo</td>\n",
       "      <td>Ciclo</td>\n",
       "    </tr>\n",
       "    <tr>\n",
       "      <th>18</th>\n",
       "      <td>Cuadriciclo ligero</td>\n",
       "      <td>Cuadriciclo ligero</td>\n",
       "      <td>Cuadriciclo ligero</td>\n",
       "      <td>Cuadriciclo ligero</td>\n",
       "    </tr>\n",
       "    <tr>\n",
       "      <th>19</th>\n",
       "      <td>VMU eléctrico</td>\n",
       "      <td>VMU eléctrico</td>\n",
       "      <td>VMU eléctrico</td>\n",
       "      <td>VMU eléctrico</td>\n",
       "    </tr>\n",
       "    <tr>\n",
       "      <th>20</th>\n",
       "      <td>Semiremolque</td>\n",
       "      <td>Semiremolque</td>\n",
       "      <td>Semiremolque</td>\n",
       "      <td>Semiremolque</td>\n",
       "    </tr>\n",
       "    <tr>\n",
       "      <th>21</th>\n",
       "      <td>Sin especificar</td>\n",
       "      <td>Sin especificar</td>\n",
       "      <td>Sin especificar</td>\n",
       "      <td>Sin especificar</td>\n",
       "    </tr>\n",
       "    <tr>\n",
       "      <th>22</th>\n",
       "      <td>Autobus EMT</td>\n",
       "      <td>Autobus EMT</td>\n",
       "      <td>Autobus EMT</td>\n",
       "      <td>Autobus EMT</td>\n",
       "    </tr>\n",
       "    <tr>\n",
       "      <th>23</th>\n",
       "      <td>Remolque</td>\n",
       "      <td>Remolque</td>\n",
       "      <td>Remolque</td>\n",
       "      <td>Remolque</td>\n",
       "    </tr>\n",
       "    <tr>\n",
       "      <th>24</th>\n",
       "      <td>Camión de bomberos</td>\n",
       "      <td>Camión de bomberos</td>\n",
       "      <td>Camión de bomberos</td>\n",
       "      <td>Camión de bomberos</td>\n",
       "    </tr>\n",
       "    <tr>\n",
       "      <th>25</th>\n",
       "      <td>Otros vehículos sin motor</td>\n",
       "      <td>Otros vehículos sin motor</td>\n",
       "      <td>Otros vehículos sin motor</td>\n",
       "      <td>Otros vehículos sin motor</td>\n",
       "    </tr>\n",
       "    <tr>\n",
       "      <th>26</th>\n",
       "      <td>Bicicleta EPAC (pedaleo asistido)</td>\n",
       "      <td>Bicicleta EPAC (pedaleo asistido)</td>\n",
       "      <td>Bicicleta EPAC (pedaleo asistido)</td>\n",
       "      <td>Bicicleta EPAC (pedaleo asistido)</td>\n",
       "    </tr>\n",
       "  </tbody>\n",
       "</table>\n",
       "</div>"
      ],
      "text/plain": [
       "                            Type_2019                          Type_2020  \\\n",
       "0                           Furgoneta                          Furgoneta   \n",
       "1                             Turismo                            Turismo   \n",
       "2                             Autobús                            Autobús   \n",
       "3                          Ciclomotor                         Ciclomotor   \n",
       "4                 Motocicleta > 125cc                Motocicleta > 125cc   \n",
       "5             Motocicleta hasta 125cc            Motocicleta hasta 125cc   \n",
       "6                        Todo terreno                       Todo terreno   \n",
       "7                           Bicicleta                          Bicicleta   \n",
       "8                       Camión rígido                      Camión rígido   \n",
       "9                 Maquinaria de obras                Maquinaria de obras   \n",
       "10                       Tractocamión                       Tractocamión   \n",
       "11              Cuadriciclo no ligero              Cuadriciclo no ligero   \n",
       "12                Vehículo articulado                Vehículo articulado   \n",
       "13                 Autobús articulado                 Autobús articulado   \n",
       "14          Otros vehículos con motor          Otros vehículos con motor   \n",
       "15                       Autocaravana                       Autocaravana   \n",
       "16                           Patinete                           Patinete   \n",
       "17                              Ciclo                              Ciclo   \n",
       "18                 Cuadriciclo ligero                 Cuadriciclo ligero   \n",
       "19                      VMU eléctrico                      VMU eléctrico   \n",
       "20                       Semiremolque                       Semiremolque   \n",
       "21                    Sin especificar                    Sin especificar   \n",
       "22                        Autobus EMT                        Autobus EMT   \n",
       "23                           Remolque                           Remolque   \n",
       "24                 Camión de bomberos                 Camión de bomberos   \n",
       "25          Otros vehículos sin motor          Otros vehículos sin motor   \n",
       "26  Bicicleta EPAC (pedaleo asistido)  Bicicleta EPAC (pedaleo asistido)   \n",
       "\n",
       "                            Type_2021                               Type  \n",
       "0                           Furgoneta                          Furgoneta  \n",
       "1                             Turismo                            Turismo  \n",
       "2                             Autobús                            Autobús  \n",
       "3                          Ciclomotor                         Ciclomotor  \n",
       "4                 Motocicleta > 125cc                Motocicleta > 125cc  \n",
       "5             Motocicleta hasta 125cc            Motocicleta hasta 125cc  \n",
       "6                        Todo terreno                       Todo terreno  \n",
       "7                           Bicicleta                          Bicicleta  \n",
       "8                       Camión rígido                      Camión rígido  \n",
       "9                 Maquinaria de obras                Maquinaria de obras  \n",
       "10                       Tractocamión                       Tractocamión  \n",
       "11              Cuadriciclo no ligero              Cuadriciclo no ligero  \n",
       "12                Vehículo articulado                Vehículo articulado  \n",
       "13                 Autobús articulado                 Autobús articulado  \n",
       "14          Otros vehículos con motor          Otros vehículos con motor  \n",
       "15                       Autocaravana                       Autocaravana  \n",
       "16                           Patinete                           Patinete  \n",
       "17                              Ciclo                              Ciclo  \n",
       "18                 Cuadriciclo ligero                 Cuadriciclo ligero  \n",
       "19                      VMU eléctrico                      VMU eléctrico  \n",
       "20                       Semiremolque                       Semiremolque  \n",
       "21                    Sin especificar                    Sin especificar  \n",
       "22                        Autobus EMT                        Autobus EMT  \n",
       "23                           Remolque                           Remolque  \n",
       "24                 Camión de bomberos                 Camión de bomberos  \n",
       "25          Otros vehículos sin motor          Otros vehículos sin motor  \n",
       "26  Bicicleta EPAC (pedaleo asistido)  Bicicleta EPAC (pedaleo asistido)  "
      ]
     },
     "execution_count": 70,
     "metadata": {},
     "output_type": "execute_result"
    }
   ],
   "source": [
    "type_veh_19_20 = pd.merge(left=veh_type_2019_df,right=veh_type_2020_df, left_on='Type_2019', right_on='Type_2020',\n",
    "                         how='outer')\n",
    "type_veh_19_20_21 = pd.merge(left=type_veh_19_20,right=veh_type_2021_df, left_on='Type_2020', right_on='Type_2021',\n",
    "                            how='outer')\n",
    "type_veh_19_20_21_type = pd.merge(left=type_veh_19_20_21,right=vehicle, left_on='Type_2021', right_on='Type',\n",
    "                            how='outer')\n",
    "type_veh_19_20_21_type"
   ]
  },
  {
   "cell_type": "raw",
   "id": "f45fd128",
   "metadata": {},
   "source": [
    "Comprobemos como hemos reducido las muestras: "
   ]
  },
  {
   "cell_type": "code",
   "execution_count": 73,
   "id": "bf17fc97",
   "metadata": {},
   "outputs": [
    {
     "name": "stdout",
     "output_type": "stream",
     "text": [
      "(51811, 19)\n",
      "(51811, 19)\n",
      "(51811, 13)\n",
      "(51545, 14)\n",
      "(51541, 14)\n"
     ]
    }
   ],
   "source": [
    "print(accidents_2019.shape)\n",
    "print(accidents_2019_df.shape)\n",
    "print(accidents_2019_df_clean.shape)\n",
    "print(acc_2019.shape)\n",
    "print(acc_veh_2019.shape)"
   ]
  },
  {
   "cell_type": "code",
   "execution_count": 74,
   "id": "fb850782",
   "metadata": {},
   "outputs": [
    {
     "name": "stdout",
     "output_type": "stream",
     "text": [
      "(32433, 19)\n",
      "(32433, 19)\n",
      "(32433, 13)\n",
      "(32205, 14)\n",
      "(32176, 14)\n"
     ]
    }
   ],
   "source": [
    "print(accidents_2020.shape)\n",
    "print(accidents_2020_df.shape)\n",
    "print(accidents_2020_df_clean.shape)\n",
    "print(acc_2020.shape)\n",
    "print(acc_veh_2020.shape)"
   ]
  },
  {
   "cell_type": "code",
   "execution_count": 75,
   "id": "4f706906",
   "metadata": {},
   "outputs": [
    {
     "name": "stdout",
     "output_type": "stream",
     "text": [
      "(41783, 19)\n",
      "(41783, 19)\n",
      "(41783, 13)\n",
      "(41547, 14)\n",
      "(41508, 14)\n"
     ]
    }
   ],
   "source": [
    "print(accidents_2021.shape)\n",
    "print(accidents_2021_df.shape)\n",
    "print(accidents_2021_df_clean.shape)\n",
    "print(acc_2021.shape)\n",
    "print(acc_veh_2021.shape)"
   ]
  },
  {
   "cell_type": "raw",
   "id": "aae59932",
   "metadata": {},
   "source": [
    "FALTA:\n",
    "comprobar q la ultima reduccion esta debida solo por la reduccion de las variables del tipo de vehiculos\n",
    "\n",
    "Fusionamos los tres ficheros:\n",
    "uno con la info de tipo de vehiculos\n",
    "otro sin vehiculos"
   ]
  },
  {
   "cell_type": "code",
   "execution_count": null,
   "id": "3c52b542",
   "metadata": {},
   "outputs": [],
   "source": []
  },
  {
   "cell_type": "code",
   "execution_count": null,
   "id": "f17f2af7",
   "metadata": {},
   "outputs": [],
   "source": []
  }
 ],
 "metadata": {
  "kernelspec": {
   "display_name": "Python 3 (ipykernel)",
   "language": "python",
   "name": "python3"
  },
  "language_info": {
   "codemirror_mode": {
    "name": "ipython",
    "version": 3
   },
   "file_extension": ".py",
   "mimetype": "text/x-python",
   "name": "python",
   "nbconvert_exporter": "python",
   "pygments_lexer": "ipython3",
   "version": "3.8.2"
  }
 },
 "nbformat": 4,
 "nbformat_minor": 5
}
